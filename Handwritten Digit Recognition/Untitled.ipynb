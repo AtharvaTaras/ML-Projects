{
 "cells": [
  {
   "cell_type": "code",
   "execution_count": 16,
   "id": "0b42d906",
   "metadata": {},
   "outputs": [],
   "source": [
    "import tensorflow as tf\n",
    "import matplotlib.pyplot as plt"
   ]
  },
  {
   "cell_type": "code",
   "execution_count": 17,
   "id": "143fb367",
   "metadata": {},
   "outputs": [],
   "source": [
    "mnist = tf.keras.datasets.mnist\n",
    "(X_train, y_train), (X_test, y_test) = mnist.load_data()\n",
    "\n",
    "X_train = tf.keras.utils.normalize(X_train, axis=1)\n",
    "X_test = tf.keras.utils.normalize(X_test, axis=1)"
   ]
  },
  {
   "cell_type": "code",
   "execution_count": 18,
   "id": "471fe908",
   "metadata": {},
   "outputs": [],
   "source": [
    "def plot_metrics(hist):\n",
    "    \n",
    "    plt.figure(figsize=(10, 6))\n",
    "    plt.plot(hist.history['val_accuracy'], label='Validation Accuracy')\n",
    "    plt.plot(hist.history['accuracy'], label='Train Accuracy')\n",
    "    plt.title('Validation and Train Accuracy')\n",
    "    plt.xlabel('Epoch')\n",
    "    plt.ylabel('Accuracy')\n",
    "    plt.grid()\n",
    "    plt.legend()\n",
    "    plt.show()"
   ]
  },
  {
   "cell_type": "code",
   "execution_count": null,
   "id": "e47c41d0",
   "metadata": {},
   "outputs": [
    {
     "name": "stdout",
     "output_type": "stream",
     "text": [
      "Epoch 1/50\n",
      "1875/1875 - 3s - loss: 0.2241 - accuracy: 0.9327 - val_loss: 0.1055 - val_accuracy: 0.9656 - 3s/epoch - 2ms/step\n",
      "Epoch 2/50\n",
      "1875/1875 - 2s - loss: 0.0939 - accuracy: 0.9709 - val_loss: 0.1043 - val_accuracy: 0.9685 - 2s/epoch - 979us/step\n",
      "Epoch 3/50\n",
      "1875/1875 - 2s - loss: 0.0667 - accuracy: 0.9794 - val_loss: 0.0954 - val_accuracy: 0.9722 - 2s/epoch - 973us/step\n",
      "Epoch 4/50\n",
      "1875/1875 - 2s - loss: 0.0495 - accuracy: 0.9844 - val_loss: 0.0886 - val_accuracy: 0.9746 - 2s/epoch - 980us/step\n",
      "Epoch 5/50\n",
      "1875/1875 - 2s - loss: 0.0392 - accuracy: 0.9878 - val_loss: 0.0932 - val_accuracy: 0.9731 - 2s/epoch - 997us/step\n",
      "Epoch 6/50\n",
      "1875/1875 - 2s - loss: 0.0322 - accuracy: 0.9898 - val_loss: 0.1025 - val_accuracy: 0.9757 - 2s/epoch - 989us/step\n",
      "Epoch 7/50\n",
      "1875/1875 - 2s - loss: 0.0272 - accuracy: 0.9915 - val_loss: 0.0905 - val_accuracy: 0.9784 - 2s/epoch - 991us/step\n",
      "Epoch 8/50\n",
      "1875/1875 - 2s - loss: 0.0229 - accuracy: 0.9926 - val_loss: 0.1148 - val_accuracy: 0.9711 - 2s/epoch - 981us/step\n",
      "Epoch 9/50\n",
      "1875/1875 - 2s - loss: 0.0207 - accuracy: 0.9936 - val_loss: 0.0959 - val_accuracy: 0.9770 - 2s/epoch - 962us/step\n",
      "Epoch 10/50\n",
      "1875/1875 - 2s - loss: 0.0193 - accuracy: 0.9940 - val_loss: 0.1041 - val_accuracy: 0.9772 - 2s/epoch - 979us/step\n",
      "Epoch 11/50\n",
      "1875/1875 - 2s - loss: 0.0168 - accuracy: 0.9948 - val_loss: 0.1210 - val_accuracy: 0.9749 - 2s/epoch - 1ms/step\n",
      "Epoch 12/50\n"
     ]
    }
   ],
   "source": [
    "model = tf.keras.models.Sequential()\n",
    "\n",
    "model.add(tf.keras.layers.Flatten(input_shape=(28, 28)))\n",
    "model.add(tf.keras.layers.Dense(256, activation='relu'))\n",
    "model.add(tf.keras.layers.Dense(256, activation='relu'))\n",
    "model.add(tf.keras.layers.Dense(256, activation='relu'))\n",
    "model.add(tf.keras.layers.Dense(10, activation='softmax'))\n",
    "\n",
    "model.compile(optimizer='adam', \n",
    "              loss='sparse_categorical_crossentropy', \n",
    "              metrics='accuracy')\n",
    "\n",
    "history = model.fit(X_train, y_train, validation_data=(X_test, y_test), epochs=50, verbose=2)"
   ]
  },
  {
   "cell_type": "code",
   "execution_count": null,
   "id": "d6bc1228",
   "metadata": {},
   "outputs": [],
   "source": []
  },
  {
   "cell_type": "code",
   "execution_count": 15,
   "id": "f9ee4033",
   "metadata": {},
   "outputs": [
    {
     "name": "stdout",
     "output_type": "stream",
     "text": [
      "Epoch 1/50\n",
      "1875/1875 - 2s - loss: 0.2440 - accuracy: 0.9252 - val_loss: 0.1301 - val_accuracy: 0.9605 - 2s/epoch - 922us/step\n",
      "Epoch 2/50\n",
      "1875/1875 - 1s - loss: 0.1031 - accuracy: 0.9679 - val_loss: 0.0949 - val_accuracy: 0.9710 - 1s/epoch - 767us/step\n",
      "Epoch 3/50\n",
      "1875/1875 - 2s - loss: 0.0733 - accuracy: 0.9769 - val_loss: 0.1157 - val_accuracy: 0.9682 - 2s/epoch - 801us/step\n",
      "Epoch 4/50\n",
      "1875/1875 - 1s - loss: 0.0551 - accuracy: 0.9825 - val_loss: 0.0978 - val_accuracy: 0.9702 - 1s/epoch - 768us/step\n",
      "Epoch 5/50\n",
      "1875/1875 - 1s - loss: 0.0438 - accuracy: 0.9854 - val_loss: 0.1084 - val_accuracy: 0.9696 - 1s/epoch - 768us/step\n",
      "Epoch 6/50\n",
      "1875/1875 - 1s - loss: 0.0358 - accuracy: 0.9882 - val_loss: 0.0935 - val_accuracy: 0.9745 - 1s/epoch - 766us/step\n",
      "Epoch 7/50\n",
      "1875/1875 - 1s - loss: 0.0299 - accuracy: 0.9901 - val_loss: 0.0915 - val_accuracy: 0.9764 - 1s/epoch - 785us/step\n",
      "Epoch 8/50\n",
      "1875/1875 - 1s - loss: 0.0253 - accuracy: 0.9916 - val_loss: 0.1029 - val_accuracy: 0.9756 - 1s/epoch - 768us/step\n",
      "Epoch 9/50\n",
      "1875/1875 - 1s - loss: 0.0223 - accuracy: 0.9925 - val_loss: 0.1036 - val_accuracy: 0.9760 - 1s/epoch - 767us/step\n",
      "Epoch 10/50\n",
      "1875/1875 - 1s - loss: 0.0192 - accuracy: 0.9933 - val_loss: 0.1171 - val_accuracy: 0.9755 - 1s/epoch - 766us/step\n",
      "Epoch 11/50\n",
      "1875/1875 - 1s - loss: 0.0170 - accuracy: 0.9942 - val_loss: 0.1388 - val_accuracy: 0.9712 - 1s/epoch - 767us/step\n",
      "Epoch 12/50\n",
      "1875/1875 - 1s - loss: 0.0182 - accuracy: 0.9943 - val_loss: 0.1270 - val_accuracy: 0.9753 - 1s/epoch - 767us/step\n",
      "Epoch 13/50\n",
      "1875/1875 - 1s - loss: 0.0146 - accuracy: 0.9952 - val_loss: 0.1262 - val_accuracy: 0.9740 - 1s/epoch - 766us/step\n",
      "Epoch 14/50\n",
      "1875/1875 - 1s - loss: 0.0153 - accuracy: 0.9950 - val_loss: 0.1242 - val_accuracy: 0.9763 - 1s/epoch - 767us/step\n",
      "Epoch 15/50\n",
      "1875/1875 - 1s - loss: 0.0126 - accuracy: 0.9960 - val_loss: 0.1203 - val_accuracy: 0.9765 - 1s/epoch - 768us/step\n",
      "Epoch 16/50\n",
      "1875/1875 - 1s - loss: 0.0142 - accuracy: 0.9955 - val_loss: 0.1257 - val_accuracy: 0.9761 - 1s/epoch - 793us/step\n",
      "Epoch 17/50\n",
      "1875/1875 - 1s - loss: 0.0098 - accuracy: 0.9968 - val_loss: 0.1398 - val_accuracy: 0.9770 - 1s/epoch - 790us/step\n",
      "Epoch 18/50\n",
      "1875/1875 - 1s - loss: 0.0114 - accuracy: 0.9966 - val_loss: 0.1616 - val_accuracy: 0.9738 - 1s/epoch - 771us/step\n",
      "Epoch 19/50\n",
      "1875/1875 - 1s - loss: 0.0097 - accuracy: 0.9969 - val_loss: 0.1601 - val_accuracy: 0.9749 - 1s/epoch - 766us/step\n",
      "Epoch 20/50\n",
      "1875/1875 - 1s - loss: 0.0112 - accuracy: 0.9966 - val_loss: 0.1585 - val_accuracy: 0.9762 - 1s/epoch - 768us/step\n",
      "Epoch 21/50\n",
      "1875/1875 - 1s - loss: 0.0108 - accuracy: 0.9969 - val_loss: 0.1590 - val_accuracy: 0.9766 - 1s/epoch - 772us/step\n",
      "Epoch 22/50\n",
      "1875/1875 - 1s - loss: 0.0089 - accuracy: 0.9973 - val_loss: 0.1455 - val_accuracy: 0.9774 - 1s/epoch - 788us/step\n",
      "Epoch 23/50\n",
      "1875/1875 - 1s - loss: 0.0085 - accuracy: 0.9975 - val_loss: 0.1711 - val_accuracy: 0.9744 - 1s/epoch - 767us/step\n",
      "Epoch 24/50\n",
      "1875/1875 - 1s - loss: 0.0091 - accuracy: 0.9970 - val_loss: 0.1783 - val_accuracy: 0.9734 - 1s/epoch - 795us/step\n",
      "Epoch 25/50\n",
      "1875/1875 - 1s - loss: 0.0092 - accuracy: 0.9971 - val_loss: 0.1602 - val_accuracy: 0.9782 - 1s/epoch - 772us/step\n",
      "Epoch 26/50\n",
      "1875/1875 - 2s - loss: 0.0079 - accuracy: 0.9979 - val_loss: 0.1758 - val_accuracy: 0.9764 - 2s/epoch - 1ms/step\n",
      "Epoch 27/50\n",
      "1875/1875 - 2s - loss: 0.0088 - accuracy: 0.9974 - val_loss: 0.1724 - val_accuracy: 0.9765 - 2s/epoch - 896us/step\n",
      "Epoch 28/50\n",
      "1875/1875 - 2s - loss: 0.0085 - accuracy: 0.9974 - val_loss: 0.1803 - val_accuracy: 0.9725 - 2s/epoch - 968us/step\n",
      "Epoch 29/50\n",
      "1875/1875 - 2s - loss: 0.0079 - accuracy: 0.9977 - val_loss: 0.1555 - val_accuracy: 0.9776 - 2s/epoch - 866us/step\n",
      "Epoch 30/50\n",
      "1875/1875 - 2s - loss: 0.0063 - accuracy: 0.9981 - val_loss: 0.1632 - val_accuracy: 0.9779 - 2s/epoch - 816us/step\n",
      "Epoch 31/50\n",
      "1875/1875 - 2s - loss: 0.0054 - accuracy: 0.9984 - val_loss: 0.2116 - val_accuracy: 0.9748 - 2s/epoch - 839us/step\n",
      "Epoch 32/50\n",
      "1875/1875 - 1s - loss: 0.0092 - accuracy: 0.9973 - val_loss: 0.1824 - val_accuracy: 0.9779 - 1s/epoch - 782us/step\n",
      "Epoch 33/50\n",
      "1875/1875 - 1s - loss: 0.0079 - accuracy: 0.9978 - val_loss: 0.1746 - val_accuracy: 0.9797 - 1s/epoch - 779us/step\n",
      "Epoch 34/50\n",
      "1875/1875 - 1s - loss: 0.0049 - accuracy: 0.9986 - val_loss: 0.1867 - val_accuracy: 0.9782 - 1s/epoch - 788us/step\n",
      "Epoch 35/50\n",
      "1875/1875 - 1s - loss: 0.0085 - accuracy: 0.9976 - val_loss: 0.1882 - val_accuracy: 0.9766 - 1s/epoch - 783us/step\n",
      "Epoch 36/50\n",
      "1875/1875 - 1s - loss: 0.0066 - accuracy: 0.9984 - val_loss: 0.2279 - val_accuracy: 0.9741 - 1s/epoch - 800us/step\n",
      "Epoch 37/50\n",
      "1875/1875 - 1s - loss: 0.0085 - accuracy: 0.9981 - val_loss: 0.1964 - val_accuracy: 0.9736 - 1s/epoch - 798us/step\n",
      "Epoch 38/50\n",
      "1875/1875 - 1s - loss: 0.0059 - accuracy: 0.9987 - val_loss: 0.1870 - val_accuracy: 0.9780 - 1s/epoch - 789us/step\n",
      "Epoch 39/50\n",
      "1875/1875 - 1s - loss: 0.0066 - accuracy: 0.9981 - val_loss: 0.2348 - val_accuracy: 0.9756 - 1s/epoch - 775us/step\n",
      "Epoch 40/50\n",
      "1875/1875 - 2s - loss: 0.0067 - accuracy: 0.9981 - val_loss: 0.1983 - val_accuracy: 0.9786 - 2s/epoch - 802us/step\n",
      "Epoch 41/50\n",
      "1875/1875 - 1s - loss: 0.0068 - accuracy: 0.9982 - val_loss: 0.2207 - val_accuracy: 0.9773 - 1s/epoch - 775us/step\n",
      "Epoch 42/50\n",
      "1875/1875 - 1s - loss: 0.0060 - accuracy: 0.9983 - val_loss: 0.2084 - val_accuracy: 0.9745 - 1s/epoch - 772us/step\n",
      "Epoch 43/50\n",
      "1875/1875 - 2s - loss: 0.0057 - accuracy: 0.9986 - val_loss: 0.1810 - val_accuracy: 0.9778 - 2s/epoch - 802us/step\n",
      "Epoch 44/50\n",
      "1875/1875 - 1s - loss: 0.0048 - accuracy: 0.9987 - val_loss: 0.2131 - val_accuracy: 0.9761 - 1s/epoch - 776us/step\n",
      "Epoch 45/50\n",
      "1875/1875 - 1s - loss: 0.0073 - accuracy: 0.9983 - val_loss: 0.1891 - val_accuracy: 0.9778 - 1s/epoch - 796us/step\n",
      "Epoch 46/50\n",
      "1875/1875 - 1s - loss: 0.0025 - accuracy: 0.9995 - val_loss: 0.2390 - val_accuracy: 0.9747 - 1s/epoch - 784us/step\n",
      "Epoch 47/50\n",
      "1875/1875 - 1s - loss: 0.0093 - accuracy: 0.9977 - val_loss: 0.2247 - val_accuracy: 0.9757 - 1s/epoch - 775us/step\n",
      "Epoch 48/50\n",
      "1875/1875 - 1s - loss: 0.0058 - accuracy: 0.9987 - val_loss: 0.2216 - val_accuracy: 0.9767 - 1s/epoch - 777us/step\n",
      "Epoch 49/50\n",
      "1875/1875 - 1s - loss: 0.0061 - accuracy: 0.9984 - val_loss: 0.2196 - val_accuracy: 0.9758 - 1s/epoch - 777us/step\n",
      "Epoch 50/50\n",
      "1875/1875 - 2s - loss: 0.0083 - accuracy: 0.9982 - val_loss: 0.2022 - val_accuracy: 0.9782 - 2s/epoch - 806us/step\n"
     ]
    },
    {
     "data": {
      "text/plain": [
       "<keras.callbacks.History at 0x1ba2993b790>"
      ]
     },
     "execution_count": 15,
     "metadata": {},
     "output_type": "execute_result"
    }
   ],
   "source": [
    "model = tf.keras.models.Sequential()\n",
    "\n",
    "model.add(tf.keras.layers.Flatten(input_shape=(28, 28)))\n",
    "model.add(tf.keras.layers.Dense(128, activation='relu'))\n",
    "model.add(tf.keras.layers.Dense(256, activation='relu'))\n",
    "model.add(tf.keras.layers.Dense(128, activation='relu'))\n",
    "model.add(tf.keras.layers.Dense(10, activation='softmax'))\n",
    "\n",
    "model.compile(optimizer='adam', \n",
    "              loss='sparse_categorical_crossentropy', \n",
    "              metrics='accuracy')\n",
    "\n",
    "model.fit(X_train, y_train, validation_data=(X_test, y_test), epochs=50, verbose=2)"
   ]
  },
  {
   "cell_type": "code",
   "execution_count": null,
   "id": "ee17eae4",
   "metadata": {},
   "outputs": [],
   "source": []
  }
 ],
 "metadata": {
  "kernelspec": {
   "display_name": "Python 3 (ipykernel)",
   "language": "python",
   "name": "python3"
  },
  "language_info": {
   "codemirror_mode": {
    "name": "ipython",
    "version": 3
   },
   "file_extension": ".py",
   "mimetype": "text/x-python",
   "name": "python",
   "nbconvert_exporter": "python",
   "pygments_lexer": "ipython3",
   "version": "3.8.5"
  }
 },
 "nbformat": 4,
 "nbformat_minor": 5
}
