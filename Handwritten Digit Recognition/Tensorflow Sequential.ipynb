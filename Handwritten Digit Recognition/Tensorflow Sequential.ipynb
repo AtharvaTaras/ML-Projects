{
 "cells": [
  {
   "cell_type": "markdown",
   "id": "6cdf8271",
   "metadata": {},
   "source": [
    "# Tensorflow Sequential\n",
    "\n",
    "### Dataset - [MNIST](https://www.tensorflow.org/datasets/catalog/mnist)\n",
    "Citation - @article{lecun2010mnist,\n",
    "  title={MNIST handwritten digit database},\n",
    "  author={LeCun, Yann and Cortes, Corinna and Burges, CJ},\n",
    "  journal={ATT Labs [Online]. Available: http://yann.lecun.com/exdb/mnist},\n",
    "  volume={2},\n",
    "  year={2010}\n",
    "}\n",
    "\n",
    "- Accuracy 97.78%  \n",
    "\n",
    "Best Params -   \n",
    "model = tf.keras.models.Sequential()  \n",
    "model.add(tf.keras.layers.Flatten(input_shape=(28, 28)))  \n",
    "model.add(tf.keras.layers.Dense(128, activation='relu'))  \n",
    "model.add(tf.keras.layers.Dense(128, activation='relu'))  \n",
    "model.add(tf.keras.layers.Dense(10, activation='softmax'))  \n",
    "model.compile(optimizer='adam',   \n",
    "              loss='sparse_categorical_crossentropy',   \n",
    "              metrics='accuracy')  \n",
    "model.fit(X_train, y_train, validation_data=(X_test, y_test), epochs=50, verbose=2)  "
   ]
  },
  {
   "cell_type": "code",
   "execution_count": 1,
   "id": "1f4dc5e8",
   "metadata": {},
   "outputs": [],
   "source": [
    "import cv2\n",
    "import numpy as np\n",
    "import matplotlib.pyplot as plt\n",
    "import tensorflow as tf"
   ]
  },
  {
   "cell_type": "code",
   "execution_count": 2,
   "id": "208e0a74",
   "metadata": {},
   "outputs": [],
   "source": [
    "mnist = tf.keras.datasets.mnist\n",
    "(X_train, y_train), (X_test, y_test) = mnist.load_data()"
   ]
  },
  {
   "cell_type": "code",
   "execution_count": 3,
   "id": "47b75cbf",
   "metadata": {},
   "outputs": [],
   "source": [
    "X_train = tf.keras.utils.normalize(X_train, axis=1)\n",
    "X_test = tf.keras.utils.normalize(X_test, axis=1)"
   ]
  },
  {
   "cell_type": "code",
   "execution_count": 4,
   "id": "f778f928",
   "metadata": {},
   "outputs": [],
   "source": [
    "model = tf.keras.models.Sequential()"
   ]
  },
  {
   "cell_type": "code",
   "execution_count": 5,
   "id": "9dac0ded",
   "metadata": {},
   "outputs": [],
   "source": [
    "model.add(tf.keras.layers.Flatten(input_shape=(28, 28)))\n",
    "model.add(tf.keras.layers.Dense(128, activation='relu'))\n",
    "model.add(tf.keras.layers.Dense(128, activation='relu'))\n",
    "model.add(tf.keras.layers.Dense(10, activation='softmax'))"
   ]
  },
  {
   "cell_type": "code",
   "execution_count": 16,
   "id": "1738bef5",
   "metadata": {},
   "outputs": [],
   "source": [
    "model.compile(optimizer='adam', \n",
    "              loss='sparse_categorical_crossentropy', \n",
    "              metrics='accuracy')"
   ]
  },
  {
   "cell_type": "code",
   "execution_count": 17,
   "id": "ee03706a",
   "metadata": {},
   "outputs": [
    {
     "name": "stdout",
     "output_type": "stream",
     "text": [
      "Epoch 1/50\n",
      "1875/1875 - 1s - loss: 0.0395 - accuracy: 0.9898 - val_loss: 0.6746 - val_accuracy: 0.9714 - 1s/epoch - 796us/step\n",
      "Epoch 2/50\n",
      "1875/1875 - 1s - loss: 0.0195 - accuracy: 0.9939 - val_loss: 0.7553 - val_accuracy: 0.9739 - 1s/epoch - 636us/step\n",
      "Epoch 3/50\n",
      "1875/1875 - 1s - loss: 0.0139 - accuracy: 0.9953 - val_loss: 0.7892 - val_accuracy: 0.9757 - 1s/epoch - 634us/step\n",
      "Epoch 4/50\n",
      "1875/1875 - 1s - loss: 0.0118 - accuracy: 0.9961 - val_loss: 0.8319 - val_accuracy: 0.9759 - 1s/epoch - 633us/step\n",
      "Epoch 5/50\n",
      "1875/1875 - 1s - loss: 0.0112 - accuracy: 0.9962 - val_loss: 0.8480 - val_accuracy: 0.9755 - 1s/epoch - 631us/step\n",
      "Epoch 6/50\n",
      "1875/1875 - 1s - loss: 0.0099 - accuracy: 0.9965 - val_loss: 0.8480 - val_accuracy: 0.9759 - 1s/epoch - 635us/step\n",
      "Epoch 7/50\n",
      "1875/1875 - 1s - loss: 0.0092 - accuracy: 0.9967 - val_loss: 0.8743 - val_accuracy: 0.9774 - 1s/epoch - 633us/step\n",
      "Epoch 8/50\n",
      "1875/1875 - 1s - loss: 0.0093 - accuracy: 0.9967 - val_loss: 0.8569 - val_accuracy: 0.9761 - 1s/epoch - 650us/step\n",
      "Epoch 9/50\n",
      "1875/1875 - 1s - loss: 0.0088 - accuracy: 0.9968 - val_loss: 0.8814 - val_accuracy: 0.9771 - 1s/epoch - 644us/step\n",
      "Epoch 10/50\n",
      "1875/1875 - 1s - loss: 0.0088 - accuracy: 0.9968 - val_loss: 0.9100 - val_accuracy: 0.9761 - 1s/epoch - 634us/step\n",
      "Epoch 11/50\n",
      "1875/1875 - 1s - loss: 0.0087 - accuracy: 0.9968 - val_loss: 0.9248 - val_accuracy: 0.9767 - 1s/epoch - 633us/step\n",
      "Epoch 12/50\n",
      "1875/1875 - 1s - loss: 0.0087 - accuracy: 0.9969 - val_loss: 0.9470 - val_accuracy: 0.9772 - 1s/epoch - 632us/step\n",
      "Epoch 13/50\n",
      "1875/1875 - 1s - loss: 0.0081 - accuracy: 0.9971 - val_loss: 0.9474 - val_accuracy: 0.9768 - 1s/epoch - 633us/step\n",
      "Epoch 14/50\n",
      "1875/1875 - 1s - loss: 0.0078 - accuracy: 0.9971 - val_loss: 0.9538 - val_accuracy: 0.9772 - 1s/epoch - 632us/step\n",
      "Epoch 15/50\n",
      "1875/1875 - 1s - loss: 0.0077 - accuracy: 0.9971 - val_loss: 0.9688 - val_accuracy: 0.9772 - 1s/epoch - 631us/step\n",
      "Epoch 16/50\n",
      "1875/1875 - 1s - loss: 0.0083 - accuracy: 0.9970 - val_loss: 0.9664 - val_accuracy: 0.9768 - 1s/epoch - 634us/step\n",
      "Epoch 17/50\n",
      "1875/1875 - 1s - loss: 0.0080 - accuracy: 0.9971 - val_loss: 1.0186 - val_accuracy: 0.9764 - 1s/epoch - 632us/step\n",
      "Epoch 18/50\n",
      "1875/1875 - 1s - loss: 0.0077 - accuracy: 0.9972 - val_loss: 1.0274 - val_accuracy: 0.9768 - 1s/epoch - 637us/step\n",
      "Epoch 19/50\n",
      "1875/1875 - 1s - loss: 0.0074 - accuracy: 0.9972 - val_loss: 1.0171 - val_accuracy: 0.9770 - 1s/epoch - 652us/step\n",
      "Epoch 20/50\n",
      "1875/1875 - 1s - loss: 0.0074 - accuracy: 0.9972 - val_loss: 1.0451 - val_accuracy: 0.9767 - 1s/epoch - 641us/step\n",
      "Epoch 21/50\n",
      "1875/1875 - 1s - loss: 0.0074 - accuracy: 0.9973 - val_loss: 1.0870 - val_accuracy: 0.9762 - 1s/epoch - 636us/step\n",
      "Epoch 22/50\n",
      "1875/1875 - 1s - loss: 0.0074 - accuracy: 0.9973 - val_loss: 1.0645 - val_accuracy: 0.9755 - 1s/epoch - 633us/step\n",
      "Epoch 23/50\n",
      "1875/1875 - 1s - loss: 0.0071 - accuracy: 0.9973 - val_loss: 1.0498 - val_accuracy: 0.9770 - 1s/epoch - 633us/step\n",
      "Epoch 24/50\n",
      "1875/1875 - 1s - loss: 0.0071 - accuracy: 0.9974 - val_loss: 1.0698 - val_accuracy: 0.9766 - 1s/epoch - 633us/step\n",
      "Epoch 25/50\n",
      "1875/1875 - 1s - loss: 0.0074 - accuracy: 0.9974 - val_loss: 1.0965 - val_accuracy: 0.9767 - 1s/epoch - 634us/step\n",
      "Epoch 26/50\n",
      "1875/1875 - 1s - loss: 0.0076 - accuracy: 0.9974 - val_loss: 1.0678 - val_accuracy: 0.9766 - 1s/epoch - 669us/step\n",
      "Epoch 27/50\n",
      "1875/1875 - 1s - loss: 0.0071 - accuracy: 0.9974 - val_loss: 1.0981 - val_accuracy: 0.9771 - 1s/epoch - 672us/step\n",
      "Epoch 28/50\n",
      "1875/1875 - 1s - loss: 0.0069 - accuracy: 0.9974 - val_loss: 1.1302 - val_accuracy: 0.9767 - 1s/epoch - 648us/step\n",
      "Epoch 29/50\n",
      "1875/1875 - 1s - loss: 0.0080 - accuracy: 0.9975 - val_loss: 1.1382 - val_accuracy: 0.9769 - 1s/epoch - 637us/step\n",
      "Epoch 30/50\n",
      "1875/1875 - 1s - loss: 0.0068 - accuracy: 0.9975 - val_loss: 1.1399 - val_accuracy: 0.9778 - 1s/epoch - 634us/step\n",
      "Epoch 31/50\n",
      "1875/1875 - 1s - loss: 0.0067 - accuracy: 0.9975 - val_loss: 1.1449 - val_accuracy: 0.9777 - 1s/epoch - 634us/step\n",
      "Epoch 32/50\n",
      "1875/1875 - 1s - loss: 0.0067 - accuracy: 0.9975 - val_loss: 1.1534 - val_accuracy: 0.9782 - 1s/epoch - 634us/step\n",
      "Epoch 33/50\n",
      "1875/1875 - 1s - loss: 0.0067 - accuracy: 0.9975 - val_loss: 1.1607 - val_accuracy: 0.9778 - 1s/epoch - 655us/step\n",
      "Epoch 34/50\n",
      "1875/1875 - 1s - loss: 0.0067 - accuracy: 0.9976 - val_loss: 1.1930 - val_accuracy: 0.9775 - 1s/epoch - 640us/step\n",
      "Epoch 35/50\n",
      "1875/1875 - 1s - loss: 0.0066 - accuracy: 0.9976 - val_loss: 1.2102 - val_accuracy: 0.9773 - 1s/epoch - 634us/step\n",
      "Epoch 36/50\n",
      "1875/1875 - 1s - loss: 0.0066 - accuracy: 0.9976 - val_loss: 1.2205 - val_accuracy: 0.9772 - 1s/epoch - 636us/step\n",
      "Epoch 37/50\n",
      "1875/1875 - 1s - loss: 0.0066 - accuracy: 0.9976 - val_loss: 1.2264 - val_accuracy: 0.9775 - 1s/epoch - 648us/step\n",
      "Epoch 38/50\n",
      "1875/1875 - 1s - loss: 0.0071 - accuracy: 0.9976 - val_loss: 1.2504 - val_accuracy: 0.9774 - 1s/epoch - 641us/step\n",
      "Epoch 39/50\n",
      "1875/1875 - 1s - loss: 0.0067 - accuracy: 0.9976 - val_loss: 1.2348 - val_accuracy: 0.9774 - 1s/epoch - 644us/step\n",
      "Epoch 40/50\n",
      "1875/1875 - 1s - loss: 0.0066 - accuracy: 0.9976 - val_loss: 1.2499 - val_accuracy: 0.9775 - 1s/epoch - 634us/step\n",
      "Epoch 41/50\n",
      "1875/1875 - 1s - loss: 0.0066 - accuracy: 0.9976 - val_loss: 1.2234 - val_accuracy: 0.9777 - 1s/epoch - 637us/step\n",
      "Epoch 42/50\n",
      "1875/1875 - 1s - loss: 0.0066 - accuracy: 0.9976 - val_loss: 1.2341 - val_accuracy: 0.9777 - 1s/epoch - 634us/step\n",
      "Epoch 43/50\n",
      "1875/1875 - 1s - loss: 0.0066 - accuracy: 0.9976 - val_loss: 1.2344 - val_accuracy: 0.9780 - 1s/epoch - 649us/step\n",
      "Epoch 44/50\n",
      "1875/1875 - 1s - loss: 0.0066 - accuracy: 0.9976 - val_loss: 1.2373 - val_accuracy: 0.9777 - 1s/epoch - 636us/step\n",
      "Epoch 45/50\n",
      "1875/1875 - 1s - loss: 0.0068 - accuracy: 0.9976 - val_loss: 1.2585 - val_accuracy: 0.9777 - 1s/epoch - 637us/step\n",
      "Epoch 46/50\n",
      "1875/1875 - 1s - loss: 0.0066 - accuracy: 0.9976 - val_loss: 1.2924 - val_accuracy: 0.9774 - 1s/epoch - 741us/step\n",
      "Epoch 47/50\n",
      "1875/1875 - 1s - loss: 0.0065 - accuracy: 0.9976 - val_loss: 1.3559 - val_accuracy: 0.9771 - 1s/epoch - 644us/step\n",
      "Epoch 48/50\n",
      "1875/1875 - 1s - loss: 0.0069 - accuracy: 0.9976 - val_loss: 1.3093 - val_accuracy: 0.9776 - 1s/epoch - 636us/step\n",
      "Epoch 49/50\n",
      "1875/1875 - 1s - loss: 0.0068 - accuracy: 0.9976 - val_loss: 1.2813 - val_accuracy: 0.9778 - 1s/epoch - 658us/step\n",
      "Epoch 50/50\n",
      "1875/1875 - 1s - loss: 0.0064 - accuracy: 0.9977 - val_loss: 1.2923 - val_accuracy: 0.9778 - 1s/epoch - 633us/step\n"
     ]
    },
    {
     "data": {
      "text/plain": [
       "<keras.callbacks.History at 0x1d397015f70>"
      ]
     },
     "execution_count": 17,
     "metadata": {},
     "output_type": "execute_result"
    }
   ],
   "source": [
    "model.fit(X_train, y_train, validation_data=(X_test, y_test), epochs=50, verbose=2)"
   ]
  },
  {
   "cell_type": "code",
   "execution_count": null,
   "id": "6f99d6f7",
   "metadata": {},
   "outputs": [],
   "source": []
  }
 ],
 "metadata": {
  "kernelspec": {
   "display_name": "Python 3 (ipykernel)",
   "language": "python",
   "name": "python3"
  },
  "language_info": {
   "codemirror_mode": {
    "name": "ipython",
    "version": 3
   },
   "file_extension": ".py",
   "mimetype": "text/x-python",
   "name": "python",
   "nbconvert_exporter": "python",
   "pygments_lexer": "ipython3",
   "version": "3.8.5"
  }
 },
 "nbformat": 4,
 "nbformat_minor": 5
}
