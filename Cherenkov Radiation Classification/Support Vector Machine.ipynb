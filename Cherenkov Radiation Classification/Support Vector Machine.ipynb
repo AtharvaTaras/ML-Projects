{
 "cells": [
  {
   "cell_type": "markdown",
   "id": "faf5e374",
   "metadata": {},
   "source": [
    "# SVM Classifier\n",
    "\n",
    "#### Best Params\n",
    "Split Size - 0.2  \n",
    "C - 10  \n",
    "Kernel - rbf  \n",
    "Gamma - 0.1  \n",
    "Random State - 95  \n",
    "\n",
    "Accuracy - 88.93%  "
   ]
  },
  {
   "cell_type": "code",
   "execution_count": 1,
   "id": "620baff9",
   "metadata": {},
   "outputs": [],
   "source": [
    "import pandas as pd\n",
    "\n",
    "from sklearn.svm import SVC\n",
    "from sklearn.preprocessing import StandardScaler\n",
    "from sklearn.metrics import accuracy_score\n",
    "from sklearn.model_selection import train_test_split"
   ]
  },
  {
   "cell_type": "code",
   "execution_count": 2,
   "id": "0df6f158",
   "metadata": {},
   "outputs": [
    {
     "data": {
      "text/html": [
       "<div>\n",
       "<style scoped>\n",
       "    .dataframe tbody tr th:only-of-type {\n",
       "        vertical-align: middle;\n",
       "    }\n",
       "\n",
       "    .dataframe tbody tr th {\n",
       "        vertical-align: top;\n",
       "    }\n",
       "\n",
       "    .dataframe thead th {\n",
       "        text-align: right;\n",
       "    }\n",
       "</style>\n",
       "<table border=\"1\" class=\"dataframe\">\n",
       "  <thead>\n",
       "    <tr style=\"text-align: right;\">\n",
       "      <th></th>\n",
       "      <th>fLength</th>\n",
       "      <th>fWidth</th>\n",
       "      <th>fSize</th>\n",
       "      <th>fConc</th>\n",
       "      <th>fConc1</th>\n",
       "      <th>fAsym</th>\n",
       "      <th>fM3Long</th>\n",
       "      <th>fM3Trans</th>\n",
       "      <th>fAlpha</th>\n",
       "      <th>fDist</th>\n",
       "      <th>class</th>\n",
       "    </tr>\n",
       "  </thead>\n",
       "  <tbody>\n",
       "    <tr>\n",
       "      <th>0</th>\n",
       "      <td>28.7967</td>\n",
       "      <td>16.0021</td>\n",
       "      <td>2.6449</td>\n",
       "      <td>0.3918</td>\n",
       "      <td>0.1982</td>\n",
       "      <td>27.7004</td>\n",
       "      <td>22.0110</td>\n",
       "      <td>-8.2027</td>\n",
       "      <td>40.0920</td>\n",
       "      <td>81.8828</td>\n",
       "      <td>g</td>\n",
       "    </tr>\n",
       "    <tr>\n",
       "      <th>1</th>\n",
       "      <td>31.6036</td>\n",
       "      <td>11.7235</td>\n",
       "      <td>2.5185</td>\n",
       "      <td>0.5303</td>\n",
       "      <td>0.3773</td>\n",
       "      <td>26.2722</td>\n",
       "      <td>23.8238</td>\n",
       "      <td>-9.9574</td>\n",
       "      <td>6.3609</td>\n",
       "      <td>205.2610</td>\n",
       "      <td>g</td>\n",
       "    </tr>\n",
       "    <tr>\n",
       "      <th>2</th>\n",
       "      <td>162.0520</td>\n",
       "      <td>136.0310</td>\n",
       "      <td>4.0612</td>\n",
       "      <td>0.0374</td>\n",
       "      <td>0.0187</td>\n",
       "      <td>116.7410</td>\n",
       "      <td>-64.8580</td>\n",
       "      <td>-45.2160</td>\n",
       "      <td>76.9600</td>\n",
       "      <td>256.7880</td>\n",
       "      <td>g</td>\n",
       "    </tr>\n",
       "    <tr>\n",
       "      <th>3</th>\n",
       "      <td>23.8172</td>\n",
       "      <td>9.5728</td>\n",
       "      <td>2.3385</td>\n",
       "      <td>0.6147</td>\n",
       "      <td>0.3922</td>\n",
       "      <td>27.2107</td>\n",
       "      <td>-6.4633</td>\n",
       "      <td>-7.1513</td>\n",
       "      <td>10.4490</td>\n",
       "      <td>116.7370</td>\n",
       "      <td>g</td>\n",
       "    </tr>\n",
       "    <tr>\n",
       "      <th>4</th>\n",
       "      <td>75.1362</td>\n",
       "      <td>30.9205</td>\n",
       "      <td>3.1611</td>\n",
       "      <td>0.3168</td>\n",
       "      <td>0.1832</td>\n",
       "      <td>-5.5277</td>\n",
       "      <td>28.5525</td>\n",
       "      <td>21.8393</td>\n",
       "      <td>4.6480</td>\n",
       "      <td>356.4620</td>\n",
       "      <td>g</td>\n",
       "    </tr>\n",
       "  </tbody>\n",
       "</table>\n",
       "</div>"
      ],
      "text/plain": [
       "    fLength    fWidth   fSize   fConc  fConc1     fAsym  fM3Long  fM3Trans  \\\n",
       "0   28.7967   16.0021  2.6449  0.3918  0.1982   27.7004  22.0110   -8.2027   \n",
       "1   31.6036   11.7235  2.5185  0.5303  0.3773   26.2722  23.8238   -9.9574   \n",
       "2  162.0520  136.0310  4.0612  0.0374  0.0187  116.7410 -64.8580  -45.2160   \n",
       "3   23.8172    9.5728  2.3385  0.6147  0.3922   27.2107  -6.4633   -7.1513   \n",
       "4   75.1362   30.9205  3.1611  0.3168  0.1832   -5.5277  28.5525   21.8393   \n",
       "\n",
       "    fAlpha     fDist class  \n",
       "0  40.0920   81.8828     g  \n",
       "1   6.3609  205.2610     g  \n",
       "2  76.9600  256.7880     g  \n",
       "3  10.4490  116.7370     g  \n",
       "4   4.6480  356.4620     g  "
      ]
     },
     "execution_count": 2,
     "metadata": {},
     "output_type": "execute_result"
    }
   ],
   "source": [
    "data = pd.read_csv('datasets/magic04.data', \n",
    "                   names=['fLength', 'fWidth', 'fSize', 'fConc', 'fConc1', 'fAsym', 'fM3Long', 'fM3Trans', 'fAlpha', 'fDist', 'class'])\n",
    "\n",
    "data.head()"
   ]
  },
  {
   "cell_type": "code",
   "execution_count": 3,
   "id": "2e52f74e",
   "metadata": {},
   "outputs": [
    {
     "data": {
      "text/plain": [
       "array([1, 0])"
      ]
     },
     "execution_count": 3,
     "metadata": {},
     "output_type": "execute_result"
    }
   ],
   "source": [
    "data['class'] = (data['class'] == 'g').astype(int)\n",
    "data['class'].unique()"
   ]
  },
  {
   "cell_type": "code",
   "execution_count": 4,
   "id": "8316b2f9",
   "metadata": {},
   "outputs": [
    {
     "data": {
      "text/plain": [
       "(19020, 10)"
      ]
     },
     "execution_count": 4,
     "metadata": {},
     "output_type": "execute_result"
    }
   ],
   "source": [
    "X = data.drop('class', axis=1)\n",
    "y = data['class']\n",
    "\n",
    "scaler = StandardScaler()\n",
    "X_scaled = scaler.fit_transform(X)\n",
    "X = X_scaled\n",
    "X.shape"
   ]
  },
  {
   "cell_type": "markdown",
   "id": "b5fdd0e6",
   "metadata": {},
   "source": [
    "##### Finding best hyperparamters"
   ]
  },
  {
   "cell_type": "code",
   "execution_count": 5,
   "id": "d9bedd57",
   "metadata": {},
   "outputs": [],
   "source": [
    "def train_eval(X, y, c, kernel, gamma, iternum):\n",
    "    X_train, X_test, y_train, y_test = train_test_split(X, y, test_size=0.2, random_state=iternum)\n",
    "    \n",
    "    sv_model = SVC(C=c, kernel=kernel, gamma=gamma)\n",
    "    sv_model.fit(X_train, y_train)\n",
    "    \n",
    "    y_pred = sv_model.predict(X_test)\n",
    "    accuracy = accuracy_score(y_test, y_pred)\n",
    "    \n",
    "    return accuracy\n",
    "    "
   ]
  },
  {
   "cell_type": "code",
   "execution_count": 6,
   "id": "6f93a85b",
   "metadata": {
    "scrolled": false
   },
   "outputs": [
    {
     "name": "stdout",
     "output_type": "stream",
     "text": [
      "Accuracy 0.7918 C 0.1 Kernel linear Gamma 0.1 RandomState 0\n",
      "\n",
      " Accuracy 0.7918 C 0.1 Kernel linear Gamma 0.1 RandomState 0 \n",
      "\n",
      "Accuracy 0.7918 C 0.1 Kernel linear Gamma 1 RandomState 0\n",
      "Accuracy 0.7918 C 0.1 Kernel linear Gamma scale RandomState 0\n",
      "Accuracy 0.85331 C 0.1 Kernel rbf Gamma 0.1 RandomState 0\n",
      "\n",
      " Accuracy 0.85331 C 0.1 Kernel rbf Gamma 0.1 RandomState 0 \n",
      "\n",
      "Accuracy 0.84306 C 0.1 Kernel rbf Gamma 1 RandomState 0\n",
      "Accuracy 0.85331 C 0.1 Kernel rbf Gamma scale RandomState 0\n",
      "Accuracy 0.79259 C 1 Kernel linear Gamma 0.1 RandomState 0\n",
      "Accuracy 0.79259 C 1 Kernel linear Gamma 1 RandomState 0\n",
      "Accuracy 0.79259 C 1 Kernel linear Gamma scale RandomState 0\n",
      "Accuracy 0.87014 C 1 Kernel rbf Gamma 0.1 RandomState 0\n",
      "\n",
      " Accuracy 0.87014 C 1 Kernel rbf Gamma 0.1 RandomState 0 \n",
      "\n",
      "Accuracy 0.86278 C 1 Kernel rbf Gamma 1 RandomState 0\n",
      "Accuracy 0.87014 C 1 Kernel rbf Gamma scale RandomState 0\n",
      "Accuracy 0.79259 C 10 Kernel linear Gamma 0.1 RandomState 0\n",
      "Accuracy 0.79259 C 10 Kernel linear Gamma 1 RandomState 0\n",
      "Accuracy 0.79259 C 10 Kernel linear Gamma scale RandomState 0\n",
      "Accuracy 0.87382 C 10 Kernel rbf Gamma 0.1 RandomState 0\n",
      "\n",
      " Accuracy 0.87382 C 10 Kernel rbf Gamma 0.1 RandomState 0 \n",
      "\n",
      "Accuracy 0.86067 C 10 Kernel rbf Gamma 1 RandomState 0\n",
      "Accuracy 0.87355 C 10 Kernel rbf Gamma scale RandomState 0\n"
     ]
    }
   ],
   "source": [
    "best_acc = -1\n",
    "best_model = None\n",
    "\n",
    "for C in [0.1, 1, 10]:\n",
    "    for kerneltype in ['linear', 'rbf']:\n",
    "        for gammaval in [0.1, 1, 'scale']:\n",
    "            for state in range(0, 1):\n",
    "                acc = train_eval(X, y, c=C, kernel=kerneltype, gamma=gammaval, iternum=state)\n",
    "                \n",
    "                model = f'Accuracy {round(acc, 5)} C {C} Kernel {kerneltype} Gamma {gammaval} RandomState {state}'\n",
    "                \n",
    "                if acc > best_acc:\n",
    "                    print(model)\n",
    "                    best_acc = acc\n",
    "                    best_model = model\n",
    "                    print('\\n', best_model, '\\n')\n",
    "                    \n",
    "                else:\n",
    "                    print(model)"
   ]
  },
  {
   "cell_type": "code",
   "execution_count": 7,
   "id": "69cf3f28",
   "metadata": {},
   "outputs": [
    {
     "data": {
      "text/plain": [
       "'Accuracy 0.87382 C 10 Kernel rbf Gamma 0.1 RandomState 0'"
      ]
     },
     "execution_count": 7,
     "metadata": {},
     "output_type": "execute_result"
    }
   ],
   "source": [
    "best_model"
   ]
  },
  {
   "cell_type": "code",
   "execution_count": 10,
   "id": "7d85f87d",
   "metadata": {},
   "outputs": [
    {
     "name": "stdout",
     "output_type": "stream",
     "text": [
      "Accuracy 0.86987 C 10 Kernel rbf Gamma 0.1 RandomState 1\n",
      "Accuracy 0.87198 C 10 Kernel rbf Gamma 0.1 RandomState 2\n",
      "Accuracy 0.8725 C 10 Kernel rbf Gamma 0.1 RandomState 4\n",
      "Accuracy 0.87802 C 10 Kernel rbf Gamma 0.1 RandomState 6\n",
      "Accuracy 0.8796 C 10 Kernel rbf Gamma 0.1 RandomState 9\n",
      "-------------------------------------------------------------------------------------> RandomState 10\n",
      "-------------------------------------------------------------------------------------> RandomState 20\n",
      "-------------------------------------------------------------------------------------> RandomState 30\n",
      "Accuracy 0.88433 C 10 Kernel rbf Gamma 0.1 RandomState 37\n",
      "-------------------------------------------------------------------------------------> RandomState 40\n",
      "Accuracy 0.88696 C 10 Kernel rbf Gamma 0.1 RandomState 46\n",
      "-------------------------------------------------------------------------------------> RandomState 50\n",
      "-------------------------------------------------------------------------------------> RandomState 60\n",
      "-------------------------------------------------------------------------------------> RandomState 70\n",
      "-------------------------------------------------------------------------------------> RandomState 80\n",
      "-------------------------------------------------------------------------------------> RandomState 90\n",
      "Accuracy 0.88933 C 10 Kernel rbf Gamma 0.1 RandomState 95\n"
     ]
    }
   ],
   "source": [
    "best_acc = -1\n",
    "best_model = None\n",
    "for i in range(1, 100):\n",
    "    acc = train_eval(X, y, c=10, kernel='rbf', gamma=0.1, iternum=i)          \n",
    "    model = f'Accuracy {round(acc, 5)} C 10 Kernel rbf Gamma 0.1 RandomState {i}'\n",
    "\n",
    "    if acc > best_acc:\n",
    "        best_acc = acc\n",
    "        best_model = model\n",
    "        print(best_model)\n",
    "\n",
    "    if i%10 == 0:\n",
    "        print(f'-------------------------------------------------------------------------------------> RandomState {i}')"
   ]
  },
  {
   "cell_type": "code",
   "execution_count": 11,
   "id": "a3a50eb4",
   "metadata": {},
   "outputs": [
    {
     "data": {
      "text/plain": [
       "'Accuracy 0.88933 C 10 Kernel rbf Gamma 0.1 RandomState 95'"
      ]
     },
     "execution_count": 11,
     "metadata": {},
     "output_type": "execute_result"
    }
   ],
   "source": [
    "best_model"
   ]
  }
 ],
 "metadata": {
  "kernelspec": {
   "display_name": "Python 3 (ipykernel)",
   "language": "python",
   "name": "python3"
  },
  "language_info": {
   "codemirror_mode": {
    "name": "ipython",
    "version": 3
   },
   "file_extension": ".py",
   "mimetype": "text/x-python",
   "name": "python",
   "nbconvert_exporter": "python",
   "pygments_lexer": "ipython3",
   "version": "3.8.5"
  }
 },
 "nbformat": 4,
 "nbformat_minor": 5
}
