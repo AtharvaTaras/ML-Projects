{
 "cells": [
  {
   "cell_type": "markdown",
   "id": "b116e911",
   "metadata": {},
   "source": [
    "# kNN Model"
   ]
  },
  {
   "cell_type": "code",
   "execution_count": 33,
   "id": "d94a6467",
   "metadata": {},
   "outputs": [],
   "source": [
    "import pandas as pd\n",
    "import numpy as np\n",
    "import matplotlib.pyplot as plt\n",
    "\n",
    "from sklearn.preprocessing import StandardScaler\n",
    "from sklearn.neighbors import KNeighborsClassifier\n",
    "from sklearn.metrics import classification_report, accuracy_score\n",
    "from sklearn.model_selection import train_test_split, cross_val_score\n",
    "from imblearn.over_sampling import RandomOverSampler"
   ]
  },
  {
   "cell_type": "code",
   "execution_count": 3,
   "id": "3b57d98c",
   "metadata": {},
   "outputs": [
    {
     "data": {
      "text/html": [
       "<div>\n",
       "<style scoped>\n",
       "    .dataframe tbody tr th:only-of-type {\n",
       "        vertical-align: middle;\n",
       "    }\n",
       "\n",
       "    .dataframe tbody tr th {\n",
       "        vertical-align: top;\n",
       "    }\n",
       "\n",
       "    .dataframe thead th {\n",
       "        text-align: right;\n",
       "    }\n",
       "</style>\n",
       "<table border=\"1\" class=\"dataframe\">\n",
       "  <thead>\n",
       "    <tr style=\"text-align: right;\">\n",
       "      <th></th>\n",
       "      <th>fLength</th>\n",
       "      <th>fWidth</th>\n",
       "      <th>fSize</th>\n",
       "      <th>fConc</th>\n",
       "      <th>fConc1</th>\n",
       "      <th>fAsym</th>\n",
       "      <th>fM3Long</th>\n",
       "      <th>fM3Trans</th>\n",
       "      <th>fAlpha</th>\n",
       "      <th>fDist</th>\n",
       "      <th>class</th>\n",
       "    </tr>\n",
       "  </thead>\n",
       "  <tbody>\n",
       "    <tr>\n",
       "      <th>0</th>\n",
       "      <td>28.7967</td>\n",
       "      <td>16.0021</td>\n",
       "      <td>2.6449</td>\n",
       "      <td>0.3918</td>\n",
       "      <td>0.1982</td>\n",
       "      <td>27.7004</td>\n",
       "      <td>22.0110</td>\n",
       "      <td>-8.2027</td>\n",
       "      <td>40.0920</td>\n",
       "      <td>81.8828</td>\n",
       "      <td>g</td>\n",
       "    </tr>\n",
       "    <tr>\n",
       "      <th>1</th>\n",
       "      <td>31.6036</td>\n",
       "      <td>11.7235</td>\n",
       "      <td>2.5185</td>\n",
       "      <td>0.5303</td>\n",
       "      <td>0.3773</td>\n",
       "      <td>26.2722</td>\n",
       "      <td>23.8238</td>\n",
       "      <td>-9.9574</td>\n",
       "      <td>6.3609</td>\n",
       "      <td>205.2610</td>\n",
       "      <td>g</td>\n",
       "    </tr>\n",
       "    <tr>\n",
       "      <th>2</th>\n",
       "      <td>162.0520</td>\n",
       "      <td>136.0310</td>\n",
       "      <td>4.0612</td>\n",
       "      <td>0.0374</td>\n",
       "      <td>0.0187</td>\n",
       "      <td>116.7410</td>\n",
       "      <td>-64.8580</td>\n",
       "      <td>-45.2160</td>\n",
       "      <td>76.9600</td>\n",
       "      <td>256.7880</td>\n",
       "      <td>g</td>\n",
       "    </tr>\n",
       "    <tr>\n",
       "      <th>3</th>\n",
       "      <td>23.8172</td>\n",
       "      <td>9.5728</td>\n",
       "      <td>2.3385</td>\n",
       "      <td>0.6147</td>\n",
       "      <td>0.3922</td>\n",
       "      <td>27.2107</td>\n",
       "      <td>-6.4633</td>\n",
       "      <td>-7.1513</td>\n",
       "      <td>10.4490</td>\n",
       "      <td>116.7370</td>\n",
       "      <td>g</td>\n",
       "    </tr>\n",
       "    <tr>\n",
       "      <th>4</th>\n",
       "      <td>75.1362</td>\n",
       "      <td>30.9205</td>\n",
       "      <td>3.1611</td>\n",
       "      <td>0.3168</td>\n",
       "      <td>0.1832</td>\n",
       "      <td>-5.5277</td>\n",
       "      <td>28.5525</td>\n",
       "      <td>21.8393</td>\n",
       "      <td>4.6480</td>\n",
       "      <td>356.4620</td>\n",
       "      <td>g</td>\n",
       "    </tr>\n",
       "  </tbody>\n",
       "</table>\n",
       "</div>"
      ],
      "text/plain": [
       "    fLength    fWidth   fSize   fConc  fConc1     fAsym  fM3Long  fM3Trans  \\\n",
       "0   28.7967   16.0021  2.6449  0.3918  0.1982   27.7004  22.0110   -8.2027   \n",
       "1   31.6036   11.7235  2.5185  0.5303  0.3773   26.2722  23.8238   -9.9574   \n",
       "2  162.0520  136.0310  4.0612  0.0374  0.0187  116.7410 -64.8580  -45.2160   \n",
       "3   23.8172    9.5728  2.3385  0.6147  0.3922   27.2107  -6.4633   -7.1513   \n",
       "4   75.1362   30.9205  3.1611  0.3168  0.1832   -5.5277  28.5525   21.8393   \n",
       "\n",
       "    fAlpha     fDist class  \n",
       "0  40.0920   81.8828     g  \n",
       "1   6.3609  205.2610     g  \n",
       "2  76.9600  256.7880     g  \n",
       "3  10.4490  116.7370     g  \n",
       "4   4.6480  356.4620     g  "
      ]
     },
     "execution_count": 3,
     "metadata": {},
     "output_type": "execute_result"
    }
   ],
   "source": [
    "data = pd.read_csv('datasets/magic04.data', \n",
    "                   names=['fLength', 'fWidth', 'fSize', 'fConc', 'fConc1', 'fAsym', 'fM3Long', 'fM3Trans', 'fAlpha', 'fDist', 'class'])\n",
    "\n",
    "data.head()"
   ]
  },
  {
   "cell_type": "code",
   "execution_count": 4,
   "id": "f06daa77",
   "metadata": {},
   "outputs": [
    {
     "data": {
      "text/plain": [
       "array([1, 0])"
      ]
     },
     "execution_count": 4,
     "metadata": {},
     "output_type": "execute_result"
    }
   ],
   "source": [
    "data['class'] = (data['class'] == 'g').astype(int)\n",
    "data['class'].unique()"
   ]
  },
  {
   "cell_type": "markdown",
   "id": "1ce2e37d",
   "metadata": {},
   "source": [
    "##### Data split"
   ]
  },
  {
   "cell_type": "code",
   "execution_count": 9,
   "id": "505a921c",
   "metadata": {},
   "outputs": [],
   "source": [
    "X = data.drop('class', axis=1)\n",
    "y = data['class']"
   ]
  },
  {
   "cell_type": "code",
   "execution_count": 17,
   "id": "d3f347e0",
   "metadata": {},
   "outputs": [],
   "source": [
    "X_train, X_test, y_train, y_test = train_test_split(X, y, test_size=0.2, random_state=0)"
   ]
  },
  {
   "cell_type": "code",
   "execution_count": 18,
   "id": "60b25b9e",
   "metadata": {},
   "outputs": [
    {
     "name": "stdout",
     "output_type": "stream",
     "text": [
      "(15216, 10) (3804, 10) (15216,) (3804,)\n"
     ]
    }
   ],
   "source": [
    "print(X_train.shape, X_test.shape, y_train.shape, y_test.shape)"
   ]
  },
  {
   "cell_type": "code",
   "execution_count": 24,
   "id": "6ad9f781",
   "metadata": {},
   "outputs": [],
   "source": [
    "def train_model(X, y, neighbours, iter_num):\n",
    "    \n",
    "    X_train, X_test, y_train, y_test = train_test_split(X, y, test_size=0.2, random_state=iter_num)\n",
    "    \n",
    "    knn_model = KNeighborsClassifier(n_neighbors=neighbours)\n",
    "    knn_model.fit(X_train, y_train)\n",
    "    \n",
    "    y_pred = knn_model.predict(X_test)\n",
    "    accuracy = accuracy_score(y_test, y_pred)\n",
    "    \n",
    "    return accuracy"
   ]
  },
  {
   "cell_type": "markdown",
   "id": "ebcb04b8",
   "metadata": {},
   "source": [
    "##### Hyperparameter tuning"
   ]
  },
  {
   "cell_type": "code",
   "execution_count": 28,
   "id": "e1f1941a",
   "metadata": {},
   "outputs": [
    {
     "name": "stdout",
     "output_type": "stream",
     "text": [
      "Accuracy 0.7747108 K 1 RandomState 0\n",
      "--------------------------------------------------------------------------------------> IterNum 0\n",
      "Accuracy 0.7812829 K 1 RandomState 2\n",
      "Accuracy 0.7849632 K 1 RandomState 3\n",
      "Accuracy 0.7889064 K 1 RandomState 4\n",
      "Accuracy 0.7928496 K 1 RandomState 21\n",
      "Accuracy 0.7944269 K 1 RandomState 56\n",
      "Accuracy 0.7973186 K 1 RandomState 71\n",
      "--------------------------------------------------------------------------------------> IterNum 100\n",
      "--------------------------------------------------------------------------------------> IterNum 200\n",
      "--------------------------------------------------------------------------------------> IterNum 300\n",
      "--------------------------------------------------------------------------------------> IterNum 400\n",
      "--------------------------------------------------------------------------------------> IterNum 500\n",
      "--------------------------------------------------------------------------------------> IterNum 600\n",
      "Accuracy 0.8009989 K 1 RandomState 640\n",
      "--------------------------------------------------------------------------------------> IterNum 700\n",
      "--------------------------------------------------------------------------------------> IterNum 800\n",
      "--------------------------------------------------------------------------------------> IterNum 900\n",
      "--------------------------------------------------------------------------------------> IterNum 0\n",
      "Accuracy 0.8049422 K 3 RandomState 3\n",
      "Accuracy 0.8054679 K 3 RandomState 36\n",
      "Accuracy 0.8067823 K 3 RandomState 42\n",
      "Accuracy 0.807571 K 3 RandomState 47\n",
      "Accuracy 0.8080967 K 3 RandomState 65\n",
      "Accuracy 0.8091483 K 3 RandomState 79\n",
      "Accuracy 0.8128286 K 3 RandomState 81\n",
      "--------------------------------------------------------------------------------------> IterNum 100\n",
      "Accuracy 0.8201893 K 3 RandomState 116\n",
      "--------------------------------------------------------------------------------------> IterNum 200\n",
      "--------------------------------------------------------------------------------------> IterNum 300\n",
      "--------------------------------------------------------------------------------------> IterNum 400\n",
      "--------------------------------------------------------------------------------------> IterNum 500\n",
      "--------------------------------------------------------------------------------------> IterNum 600\n",
      "--------------------------------------------------------------------------------------> IterNum 700\n",
      "--------------------------------------------------------------------------------------> IterNum 800\n",
      "--------------------------------------------------------------------------------------> IterNum 900\n",
      "--------------------------------------------------------------------------------------> IterNum 0\n",
      "Accuracy 0.8204522 K 5 RandomState 81\n",
      "--------------------------------------------------------------------------------------> IterNum 100\n",
      "Accuracy 0.8222923 K 5 RandomState 101\n",
      "--------------------------------------------------------------------------------------> IterNum 200\n",
      "Accuracy 0.8246583 K 5 RandomState 201\n",
      "--------------------------------------------------------------------------------------> IterNum 300\n",
      "--------------------------------------------------------------------------------------> IterNum 400\n",
      "--------------------------------------------------------------------------------------> IterNum 500\n",
      "Accuracy 0.8249211 K 5 RandomState 513\n",
      "--------------------------------------------------------------------------------------> IterNum 600\n",
      "--------------------------------------------------------------------------------------> IterNum 700\n",
      "--------------------------------------------------------------------------------------> IterNum 800\n",
      "--------------------------------------------------------------------------------------> IterNum 900\n",
      "--------------------------------------------------------------------------------------> IterNum 0\n",
      "--------------------------------------------------------------------------------------> IterNum 100\n",
      "--------------------------------------------------------------------------------------> IterNum 200\n",
      "Accuracy 0.8259727 K 7 RandomState 256\n",
      "--------------------------------------------------------------------------------------> IterNum 300\n",
      "Accuracy 0.8262355 K 7 RandomState 325\n",
      "--------------------------------------------------------------------------------------> IterNum 400\n",
      "--------------------------------------------------------------------------------------> IterNum 500\n",
      "--------------------------------------------------------------------------------------> IterNum 600\n",
      "--------------------------------------------------------------------------------------> IterNum 700\n",
      "--------------------------------------------------------------------------------------> IterNum 800\n",
      "--------------------------------------------------------------------------------------> IterNum 900\n",
      "--------------------------------------------------------------------------------------> IterNum 0\n",
      "Accuracy 0.8264984 K 9 RandomState 81\n",
      "--------------------------------------------------------------------------------------> IterNum 100\n",
      "--------------------------------------------------------------------------------------> IterNum 200\n",
      "--------------------------------------------------------------------------------------> IterNum 300\n",
      "Accuracy 0.8272871 K 9 RandomState 325\n",
      "--------------------------------------------------------------------------------------> IterNum 400\n",
      "--------------------------------------------------------------------------------------> IterNum 500\n",
      "--------------------------------------------------------------------------------------> IterNum 600\n",
      "--------------------------------------------------------------------------------------> IterNum 700\n",
      "--------------------------------------------------------------------------------------> IterNum 800\n",
      "--------------------------------------------------------------------------------------> IterNum 900\n",
      "--------------------------------------------------------------------------------------> IterNum 0\n",
      "--------------------------------------------------------------------------------------> IterNum 100\n",
      "--------------------------------------------------------------------------------------> IterNum 200\n",
      "--------------------------------------------------------------------------------------> IterNum 300\n",
      "Accuracy 0.8278128 K 11 RandomState 325\n",
      "--------------------------------------------------------------------------------------> IterNum 400\n",
      "--------------------------------------------------------------------------------------> IterNum 500\n",
      "--------------------------------------------------------------------------------------> IterNum 600\n",
      "--------------------------------------------------------------------------------------> IterNum 700\n",
      "--------------------------------------------------------------------------------------> IterNum 800\n",
      "--------------------------------------------------------------------------------------> IterNum 900\n",
      "--------------------------------------------------------------------------------------> IterNum 0\n",
      "--------------------------------------------------------------------------------------> IterNum 100\n",
      "Accuracy 0.8283386 K 13 RandomState 182\n",
      "--------------------------------------------------------------------------------------> IterNum 200\n",
      "--------------------------------------------------------------------------------------> IterNum 300\n",
      "--------------------------------------------------------------------------------------> IterNum 400\n",
      "--------------------------------------------------------------------------------------> IterNum 500\n",
      "--------------------------------------------------------------------------------------> IterNum 600\n",
      "--------------------------------------------------------------------------------------> IterNum 700\n",
      "--------------------------------------------------------------------------------------> IterNum 800\n",
      "--------------------------------------------------------------------------------------> IterNum 900\n"
     ]
    }
   ],
   "source": [
    "accuracy = -1\n",
    "\n",
    "for k in range(1, 15, 2):\n",
    "    for i in range(0, 1000):\n",
    "        best_acc = train_model(X=X, y=y, neighbours=k, iter_num=i)\n",
    "        \n",
    "        if best_acc > accuracy:\n",
    "            accuracy = best_acc\n",
    "            print(f'Accuracy {round(accuracy, 7)} K {k} RandomState {i}')\n",
    "            \n",
    "        if i%100 == 0:\n",
    "            print(f'--------------------------------------------------------------------------------------> IterNum {i}')"
   ]
  },
  {
   "cell_type": "markdown",
   "id": "4969b7b4",
   "metadata": {},
   "source": [
    "##### Cross Validation"
   ]
  },
  {
   "cell_type": "code",
   "execution_count": 31,
   "id": "9669ba0e",
   "metadata": {},
   "outputs": [],
   "source": [
    "k_values = list(range(1, 31))\n",
    "accuracy_scores = []\n",
    "\n",
    "for k in k_values:\n",
    "    knn = KNeighborsClassifier(n_neighbors=k)\n",
    "    scores = cross_val_score(knn, X, y, cv=5)  # 5-fold cross-validation\n",
    "    accuracy_scores.append(np.mean(scores))"
   ]
  },
  {
   "cell_type": "code",
   "execution_count": 34,
   "id": "da068df9",
   "metadata": {},
   "outputs": [
    {
     "data": {
      "image/png": "[encoded data removed]",
      "text/plain": [
       "<Figure size 640x480 with 1 Axes>"
      ]
     },
     "metadata": {},
     "output_type": "display_data"
    }
   ],
   "source": [
    "plt.plot(k_values, accuracy_scores, marker='o')\n",
    "plt.xlabel('K Value')\n",
    "plt.ylabel('Cross-Validation Accuracy')\n",
    "plt.title('Optimal K Value Selection for k-NN')\n",
    "plt.show()"
   ]
  },
  {
   "cell_type": "code",
   "execution_count": 35,
   "id": "38a741d9",
   "metadata": {},
   "outputs": [
    {
     "name": "stdout",
     "output_type": "stream",
     "text": [
      "Optimal K value: 13\n"
     ]
    }
   ],
   "source": [
    "optimal_k = k_values[np.argmax(accuracy_scores)]\n",
    "print(\"Optimal K value:\", optimal_k)"
   ]
  },
  {
   "cell_type": "markdown",
   "id": "840ab4a6",
   "metadata": {},
   "source": [
    "##### Iterating more for K = 13 for better accuracy"
   ]
  },
  {
   "cell_type": "code",
   "execution_count": null,
   "id": "42da013a",
   "metadata": {},
   "outputs": [
    {
     "name": "stdout",
     "output_type": "stream",
     "text": [
      "Accuracy 0.8283386 K 30 RandomState 182\n"
     ]
    }
   ],
   "source": [
    "accuracy = -1\n",
    "\n",
    "for i in range(182, 10_000):\n",
    "    best_acc = train_model(X=X, y=y, neighbours=13, iter_num=i)\n",
    "\n",
    "    if best_acc > accuracy:\n",
    "        accuracy = best_acc\n",
    "        print(f'Accuracy {round(accuracy, 7)} K {k} RandomState {i}')\n",
    "\n",
    "    if i%500 == 0:\n",
    "        print(f'--------------------------------------------------------------------------------------> IterNum {i}')"
   ]
  }
 ],
 "metadata": {
  "kernelspec": {
   "display_name": "Python 3 (ipykernel)",
   "language": "python",
   "name": "python3"
  },
  "language_info": {
   "codemirror_mode": {
    "name": "ipython",
    "version": 3
   },
   "file_extension": ".py",
   "mimetype": "text/x-python",
   "name": "python",
   "nbconvert_exporter": "python",
   "pygments_lexer": "ipython3",
   "version": "3.8.5"
  }
 },
 "nbformat": 4,
 "nbformat_minor": 5
}
