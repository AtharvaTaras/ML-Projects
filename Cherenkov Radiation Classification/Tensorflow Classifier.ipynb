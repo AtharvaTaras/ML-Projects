{
 "cells": [
  {
   "cell_type": "markdown",
   "id": "13e15051",
   "metadata": {},
   "source": [
    "# Tensorflow Classification Model\n",
    "\n",
    "#### Best Params\n",
    "\n",
    "Model Architecture -   \n",
    "Dense(48, activation='relu', input_shape=(10,))  \n",
    "Dense(48, activation='relu'),  \n",
    "Dense(1, activation='sigmoid')  \n",
    "\n",
    "Paramters -   \n",
    "optimizer=Adam(0.01)   \n",
    "loss='binary_crossentropy'  \n",
    "epochs=100   \n",
    "batch_size=128 \n",
    "validation_split=0.2  \n",
    "\n",
    "Accuracy - 74.13%"
   ]
  },
  {
   "cell_type": "code",
   "execution_count": 1,
   "id": "d113fff4",
   "metadata": {},
   "outputs": [],
   "source": [
    "import pandas as pd\n",
    "import numpy as np\n",
    "import matplotlib.pyplot as plt\n",
    "\n",
    "from sklearn.preprocessing import StandardScaler\n",
    "from sklearn.model_selection import train_test_split \n",
    "\n",
    "import tensorflow as tf\n",
    "from tensorflow.keras.layers import Dense, Dropout\n",
    "from tensorflow.keras.optimizers import Adam"
   ]
  },
  {
   "cell_type": "code",
   "execution_count": 2,
   "id": "cd3caaf7",
   "metadata": {},
   "outputs": [
    {
     "data": {
      "text/html": [
       "<div>\n",
       "<style scoped>\n",
       "    .dataframe tbody tr th:only-of-type {\n",
       "        vertical-align: middle;\n",
       "    }\n",
       "\n",
       "    .dataframe tbody tr th {\n",
       "        vertical-align: top;\n",
       "    }\n",
       "\n",
       "    .dataframe thead th {\n",
       "        text-align: right;\n",
       "    }\n",
       "</style>\n",
       "<table border=\"1\" class=\"dataframe\">\n",
       "  <thead>\n",
       "    <tr style=\"text-align: right;\">\n",
       "      <th></th>\n",
       "      <th>fLength</th>\n",
       "      <th>fWidth</th>\n",
       "      <th>fSize</th>\n",
       "      <th>fConc</th>\n",
       "      <th>fConc1</th>\n",
       "      <th>fAsym</th>\n",
       "      <th>fM3Long</th>\n",
       "      <th>fM3Trans</th>\n",
       "      <th>fAlpha</th>\n",
       "      <th>fDist</th>\n",
       "      <th>class</th>\n",
       "    </tr>\n",
       "  </thead>\n",
       "  <tbody>\n",
       "    <tr>\n",
       "      <th>0</th>\n",
       "      <td>28.7967</td>\n",
       "      <td>16.0021</td>\n",
       "      <td>2.6449</td>\n",
       "      <td>0.3918</td>\n",
       "      <td>0.1982</td>\n",
       "      <td>27.7004</td>\n",
       "      <td>22.0110</td>\n",
       "      <td>-8.2027</td>\n",
       "      <td>40.0920</td>\n",
       "      <td>81.8828</td>\n",
       "      <td>g</td>\n",
       "    </tr>\n",
       "    <tr>\n",
       "      <th>1</th>\n",
       "      <td>31.6036</td>\n",
       "      <td>11.7235</td>\n",
       "      <td>2.5185</td>\n",
       "      <td>0.5303</td>\n",
       "      <td>0.3773</td>\n",
       "      <td>26.2722</td>\n",
       "      <td>23.8238</td>\n",
       "      <td>-9.9574</td>\n",
       "      <td>6.3609</td>\n",
       "      <td>205.2610</td>\n",
       "      <td>g</td>\n",
       "    </tr>\n",
       "    <tr>\n",
       "      <th>2</th>\n",
       "      <td>162.0520</td>\n",
       "      <td>136.0310</td>\n",
       "      <td>4.0612</td>\n",
       "      <td>0.0374</td>\n",
       "      <td>0.0187</td>\n",
       "      <td>116.7410</td>\n",
       "      <td>-64.8580</td>\n",
       "      <td>-45.2160</td>\n",
       "      <td>76.9600</td>\n",
       "      <td>256.7880</td>\n",
       "      <td>g</td>\n",
       "    </tr>\n",
       "    <tr>\n",
       "      <th>3</th>\n",
       "      <td>23.8172</td>\n",
       "      <td>9.5728</td>\n",
       "      <td>2.3385</td>\n",
       "      <td>0.6147</td>\n",
       "      <td>0.3922</td>\n",
       "      <td>27.2107</td>\n",
       "      <td>-6.4633</td>\n",
       "      <td>-7.1513</td>\n",
       "      <td>10.4490</td>\n",
       "      <td>116.7370</td>\n",
       "      <td>g</td>\n",
       "    </tr>\n",
       "    <tr>\n",
       "      <th>4</th>\n",
       "      <td>75.1362</td>\n",
       "      <td>30.9205</td>\n",
       "      <td>3.1611</td>\n",
       "      <td>0.3168</td>\n",
       "      <td>0.1832</td>\n",
       "      <td>-5.5277</td>\n",
       "      <td>28.5525</td>\n",
       "      <td>21.8393</td>\n",
       "      <td>4.6480</td>\n",
       "      <td>356.4620</td>\n",
       "      <td>g</td>\n",
       "    </tr>\n",
       "  </tbody>\n",
       "</table>\n",
       "</div>"
      ],
      "text/plain": [
       "    fLength    fWidth   fSize   fConc  fConc1     fAsym  fM3Long  fM3Trans  \\\n",
       "0   28.7967   16.0021  2.6449  0.3918  0.1982   27.7004  22.0110   -8.2027   \n",
       "1   31.6036   11.7235  2.5185  0.5303  0.3773   26.2722  23.8238   -9.9574   \n",
       "2  162.0520  136.0310  4.0612  0.0374  0.0187  116.7410 -64.8580  -45.2160   \n",
       "3   23.8172    9.5728  2.3385  0.6147  0.3922   27.2107  -6.4633   -7.1513   \n",
       "4   75.1362   30.9205  3.1611  0.3168  0.1832   -5.5277  28.5525   21.8393   \n",
       "\n",
       "    fAlpha     fDist class  \n",
       "0  40.0920   81.8828     g  \n",
       "1   6.3609  205.2610     g  \n",
       "2  76.9600  256.7880     g  \n",
       "3  10.4490  116.7370     g  \n",
       "4   4.6480  356.4620     g  "
      ]
     },
     "execution_count": 2,
     "metadata": {},
     "output_type": "execute_result"
    }
   ],
   "source": [
    "data = pd.read_csv('datasets/magic04.data', \n",
    "                   names=['fLength', 'fWidth', 'fSize', 'fConc', 'fConc1', 'fAsym', 'fM3Long', 'fM3Trans', 'fAlpha', 'fDist', 'class'])\n",
    "\n",
    "data.head()"
   ]
  },
  {
   "cell_type": "code",
   "execution_count": 3,
   "id": "57baf1dd",
   "metadata": {},
   "outputs": [
    {
     "data": {
      "text/plain": [
       "array([1, 0])"
      ]
     },
     "execution_count": 3,
     "metadata": {},
     "output_type": "execute_result"
    }
   ],
   "source": [
    "data['class'] = (data['class'] == 'g').astype(int)\n",
    "data['class'].unique()"
   ]
  },
  {
   "cell_type": "markdown",
   "id": "843436f9",
   "metadata": {},
   "source": [
    "##### Feature/Label split"
   ]
  },
  {
   "cell_type": "code",
   "execution_count": 4,
   "id": "23f6fc5f",
   "metadata": {},
   "outputs": [],
   "source": [
    "X = data.drop('class', axis=1)\n",
    "y = data['class']"
   ]
  },
  {
   "cell_type": "code",
   "execution_count": 5,
   "id": "8f787c79",
   "metadata": {},
   "outputs": [],
   "source": [
    "scaler = StandardScaler()\n",
    "X = scaler.fit_transform(X)"
   ]
  },
  {
   "cell_type": "code",
   "execution_count": 6,
   "id": "69473cf9",
   "metadata": {},
   "outputs": [],
   "source": [
    "X_train, X_test, y_train, y_test = train_test_split(X, y, test_size=0.2, random_state=0)"
   ]
  },
  {
   "cell_type": "markdown",
   "id": "e9a6d024",
   "metadata": {},
   "source": [
    "##### Simple Model training"
   ]
  },
  {
   "cell_type": "code",
   "execution_count": 7,
   "id": "9fd79b33",
   "metadata": {},
   "outputs": [],
   "source": [
    "model = tf.keras.Sequential([\n",
    "    Dense(32, activation='relu', input_shape=(10,)),\n",
    "    Dense(32, activation='relu'),\n",
    "    Dense(1, activation='sigmoid')\n",
    "])\n",
    "\n",
    "model.compile(optimizer=Adam(0.001), \n",
    "              loss='binary_crossentropy',\n",
    "              metrics=['accuracy'])"
   ]
  },
  {
   "cell_type": "code",
   "execution_count": 8,
   "id": "2b6fc476",
   "metadata": {
    "scrolled": false
   },
   "outputs": [],
   "source": [
    "history = model.fit(X, y, epochs=100, batch_size=32, validation_split=0.2, verbose=0)"
   ]
  },
  {
   "cell_type": "markdown",
   "id": "c0834f97",
   "metadata": {},
   "source": [
    "##### Accuracy Plot"
   ]
  },
  {
   "cell_type": "code",
   "execution_count": 9,
   "id": "a2c778b9",
   "metadata": {},
   "outputs": [],
   "source": [
    "def plot_accuracy(history):\n",
    "    plt.plot(history.history['accuracy'], label='accuracy')\n",
    "    plt.plot(history.history['val_accuracy'], label='val_accuracy')\n",
    "    plt.xlabel('Epoch')\n",
    "    plt.ylabel('Accuracy')\n",
    "    plt.legend()\n",
    "    plt.grid(True)\n",
    "    plt.show()"
   ]
  },
  {
   "cell_type": "code",
   "execution_count": 10,
   "id": "a54c3ea1",
   "metadata": {},
   "outputs": [
    {
     "data": {
      "image/png": "[encoded data removed]",
      "text/plain": [
       "<Figure size 640x480 with 1 Axes>"
      ]
     },
     "metadata": {},
     "output_type": "display_data"
    }
   ],
   "source": [
    "plot_accuracy(history)"
   ]
  },
  {
   "cell_type": "code",
   "execution_count": 11,
   "id": "e3a30cd4",
   "metadata": {},
   "outputs": [
    {
     "data": {
      "text/plain": [
       "0.7147738933563232"
      ]
     },
     "execution_count": 11,
     "metadata": {},
     "output_type": "execute_result"
    }
   ],
   "source": [
    "max(history.history['val_accuracy'])"
   ]
  },
  {
   "cell_type": "markdown",
   "id": "7ecddd31",
   "metadata": {},
   "source": [
    "##### Model with Dropout Layers"
   ]
  },
  {
   "cell_type": "code",
   "execution_count": 12,
   "id": "8280e9e8",
   "metadata": {},
   "outputs": [],
   "source": [
    "model = tf.keras.Sequential([\n",
    "    Dense(32, activation='relu', input_shape=(10,)),\n",
    "    Dropout(0.1),\n",
    "    Dense(32, activation='relu'),\n",
    "    Dropout(0.1),\n",
    "    Dense(1, activation='sigmoid')\n",
    "])\n",
    "\n",
    "model.compile(optimizer=Adam(0.001), \n",
    "              loss='binary_crossentropy',\n",
    "              metrics=['accuracy'])"
   ]
  },
  {
   "cell_type": "code",
   "execution_count": 13,
   "id": "1d27b38b",
   "metadata": {},
   "outputs": [],
   "source": [
    "history = model.fit(X, y, epochs=100, batch_size=32, validation_split=0.2, verbose=0)"
   ]
  },
  {
   "cell_type": "code",
   "execution_count": 14,
   "id": "026d7c7a",
   "metadata": {},
   "outputs": [
    {
     "data": {
      "image/png": "[encoded data removed]",
      "text/plain": [
       "<Figure size 640x480 with 1 Axes>"
      ]
     },
     "metadata": {},
     "output_type": "display_data"
    }
   ],
   "source": [
    "plot_accuracy(history)"
   ]
  },
  {
   "cell_type": "code",
   "execution_count": 15,
   "id": "c88409e2",
   "metadata": {},
   "outputs": [
    {
     "data": {
      "text/plain": [
       "0.6761304140090942"
      ]
     },
     "execution_count": 15,
     "metadata": {},
     "output_type": "execute_result"
    }
   ],
   "source": [
    "max(history.history['val_accuracy'])"
   ]
  },
  {
   "cell_type": "markdown",
   "id": "1353b121",
   "metadata": {},
   "source": [
    "##### Hyperparamter tuning"
   ]
  },
  {
   "cell_type": "code",
   "execution_count": 21,
   "id": "62af01fa",
   "metadata": {},
   "outputs": [
    {
     "name": "stdout",
     "output_type": "stream",
     "text": [
      "Accuracy 0.70189 LayerSize 32 BatchSize 32 LR 0.01\n",
      "Accuracy 0.70952 LayerSize 32 BatchSize 32 LR 0.005\n",
      "Accuracy 0.71346 LayerSize 32 BatchSize 32 LR 0.001\n",
      "Accuracy 0.70768 LayerSize 32 BatchSize 64 LR 0.01\n",
      "Accuracy 0.7153 LayerSize 32 BatchSize 64 LR 0.005\n",
      "Accuracy 0.70216 LayerSize 32 BatchSize 64 LR 0.001\n",
      "Accuracy 0.71504 LayerSize 32 BatchSize 128 LR 0.01\n",
      "Accuracy 0.73186 LayerSize 32 BatchSize 128 LR 0.005\n",
      "Accuracy 0.71004 LayerSize 32 BatchSize 128 LR 0.001\n",
      "Accuracy 0.7224 LayerSize 48 BatchSize 32 LR 0.01\n",
      "Accuracy 0.72292 LayerSize 48 BatchSize 32 LR 0.005\n",
      "Accuracy 0.71924 LayerSize 48 BatchSize 32 LR 0.001\n",
      "Accuracy 0.71714 LayerSize 48 BatchSize 64 LR 0.01\n",
      "Accuracy 0.72871 LayerSize 48 BatchSize 64 LR 0.005\n",
      "Accuracy 0.70452 LayerSize 48 BatchSize 64 LR 0.001\n",
      "Accuracy 0.74132 LayerSize 48 BatchSize 128 LR 0.01\n",
      "Accuracy 0.71977 LayerSize 48 BatchSize 128 LR 0.005\n",
      "Accuracy 0.69243 LayerSize 48 BatchSize 128 LR 0.001\n",
      "Accuracy 0.69821 LayerSize 64 BatchSize 32 LR 0.01\n",
      "Accuracy 0.73107 LayerSize 64 BatchSize 32 LR 0.005\n",
      "Accuracy 0.7316 LayerSize 64 BatchSize 32 LR 0.001\n",
      "Accuracy 0.7103 LayerSize 64 BatchSize 64 LR 0.01\n",
      "Accuracy 0.72634 LayerSize 64 BatchSize 64 LR 0.005\n",
      "Accuracy 0.73212 LayerSize 64 BatchSize 64 LR 0.001\n",
      "Accuracy 0.71004 LayerSize 64 BatchSize 128 LR 0.01\n",
      "Accuracy 0.72476 LayerSize 64 BatchSize 128 LR 0.005\n",
      "Accuracy 0.71241 LayerSize 64 BatchSize 128 LR 0.001\n",
      "\n",
      "\n",
      "\n",
      " Accuracy 0.74132 LayerSize 48 BatchSize 128 LR 0.01\n"
     ]
    }
   ],
   "source": [
    "best_acc = -1\n",
    "for layersize in [32, 48, 64]:\n",
    "    for batch in [32, 64, 128]:\n",
    "        for learning_rate in [0.01, 0.005, 0.001]:\n",
    "            \n",
    "            model = tf.keras.Sequential([\n",
    "                Dense(layersize, activation='relu', input_shape=(10,)),\n",
    "                Dense(layersize, activation='relu'),\n",
    "                Dense(1, activation='sigmoid')\n",
    "            ])\n",
    "\n",
    "            model.compile(optimizer=Adam(learning_rate), \n",
    "                          loss='binary_crossentropy',\n",
    "                          metrics=['accuracy'])\n",
    "\n",
    "            history = model.fit(X, y, epochs=100, batch_size=batch, validation_split=0.2, verbose=0)\n",
    "            val_acc = max(history.history['val_accuracy'])\n",
    "            model_info = (f'Accuracy {round(val_acc, 5)} LayerSize {layersize} BatchSize {batch} LR {learning_rate}')\n",
    "            print(model_info)\n",
    "\n",
    "            if val_acc > best_acc:\n",
    "                   best_acc = val_acc\n",
    "                   best_model = model_info\n",
    "                              \n",
    "print(f'\\n\\n\\n {best_model}')"
   ]
  }
 ],
 "metadata": {
  "kernelspec": {
   "display_name": "Python 3 (ipykernel)",
   "language": "python",
   "name": "python3"
  },
  "language_info": {
   "codemirror_mode": {
    "name": "ipython",
    "version": 3
   },
   "file_extension": ".py",
   "mimetype": "text/x-python",
   "name": "python",
   "nbconvert_exporter": "python",
   "pygments_lexer": "ipython3",
   "version": "3.8.5"
  }
 },
 "nbformat": 4,
 "nbformat_minor": 5
}
