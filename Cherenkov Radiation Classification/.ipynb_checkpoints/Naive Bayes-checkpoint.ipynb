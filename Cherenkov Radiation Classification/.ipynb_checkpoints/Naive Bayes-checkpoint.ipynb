{
 "cells": [
  {
   "cell_type": "markdown",
   "id": "34f08aa9",
   "metadata": {},
   "source": [
    "# Naive Bayes Classifier\n",
    "\n",
    "#### Best Params\n",
    "Split Size - 0.2  \n",
    "Random State - 9917  \n",
    "Scaling - True  \n",
    "\n",
    "Accuracy - 75.34%"
   ]
  },
  {
   "cell_type": "code",
   "execution_count": 1,
   "id": "d0aec008",
   "metadata": {},
   "outputs": [],
   "source": [
    "import pandas as pd\n",
    "\n",
    "from sklearn.preprocessing import StandardScaler\n",
    "from sklearn.metrics import accuracy_score\n",
    "from sklearn.naive_bayes import GaussianNB\n",
    "from sklearn.model_selection import train_test_split"
   ]
  },
  {
   "cell_type": "code",
   "execution_count": 2,
   "id": "865a348f",
   "metadata": {},
   "outputs": [
    {
     "data": {
      "text/html": [
       "<div>\n",
       "<style scoped>\n",
       "    .dataframe tbody tr th:only-of-type {\n",
       "        vertical-align: middle;\n",
       "    }\n",
       "\n",
       "    .dataframe tbody tr th {\n",
       "        vertical-align: top;\n",
       "    }\n",
       "\n",
       "    .dataframe thead th {\n",
       "        text-align: right;\n",
       "    }\n",
       "</style>\n",
       "<table border=\"1\" class=\"dataframe\">\n",
       "  <thead>\n",
       "    <tr style=\"text-align: right;\">\n",
       "      <th></th>\n",
       "      <th>fLength</th>\n",
       "      <th>fWidth</th>\n",
       "      <th>fSize</th>\n",
       "      <th>fConc</th>\n",
       "      <th>fConc1</th>\n",
       "      <th>fAsym</th>\n",
       "      <th>fM3Long</th>\n",
       "      <th>fM3Trans</th>\n",
       "      <th>fAlpha</th>\n",
       "      <th>fDist</th>\n",
       "      <th>class</th>\n",
       "    </tr>\n",
       "  </thead>\n",
       "  <tbody>\n",
       "    <tr>\n",
       "      <th>0</th>\n",
       "      <td>28.7967</td>\n",
       "      <td>16.0021</td>\n",
       "      <td>2.6449</td>\n",
       "      <td>0.3918</td>\n",
       "      <td>0.1982</td>\n",
       "      <td>27.7004</td>\n",
       "      <td>22.0110</td>\n",
       "      <td>-8.2027</td>\n",
       "      <td>40.0920</td>\n",
       "      <td>81.8828</td>\n",
       "      <td>g</td>\n",
       "    </tr>\n",
       "    <tr>\n",
       "      <th>1</th>\n",
       "      <td>31.6036</td>\n",
       "      <td>11.7235</td>\n",
       "      <td>2.5185</td>\n",
       "      <td>0.5303</td>\n",
       "      <td>0.3773</td>\n",
       "      <td>26.2722</td>\n",
       "      <td>23.8238</td>\n",
       "      <td>-9.9574</td>\n",
       "      <td>6.3609</td>\n",
       "      <td>205.2610</td>\n",
       "      <td>g</td>\n",
       "    </tr>\n",
       "    <tr>\n",
       "      <th>2</th>\n",
       "      <td>162.0520</td>\n",
       "      <td>136.0310</td>\n",
       "      <td>4.0612</td>\n",
       "      <td>0.0374</td>\n",
       "      <td>0.0187</td>\n",
       "      <td>116.7410</td>\n",
       "      <td>-64.8580</td>\n",
       "      <td>-45.2160</td>\n",
       "      <td>76.9600</td>\n",
       "      <td>256.7880</td>\n",
       "      <td>g</td>\n",
       "    </tr>\n",
       "    <tr>\n",
       "      <th>3</th>\n",
       "      <td>23.8172</td>\n",
       "      <td>9.5728</td>\n",
       "      <td>2.3385</td>\n",
       "      <td>0.6147</td>\n",
       "      <td>0.3922</td>\n",
       "      <td>27.2107</td>\n",
       "      <td>-6.4633</td>\n",
       "      <td>-7.1513</td>\n",
       "      <td>10.4490</td>\n",
       "      <td>116.7370</td>\n",
       "      <td>g</td>\n",
       "    </tr>\n",
       "    <tr>\n",
       "      <th>4</th>\n",
       "      <td>75.1362</td>\n",
       "      <td>30.9205</td>\n",
       "      <td>3.1611</td>\n",
       "      <td>0.3168</td>\n",
       "      <td>0.1832</td>\n",
       "      <td>-5.5277</td>\n",
       "      <td>28.5525</td>\n",
       "      <td>21.8393</td>\n",
       "      <td>4.6480</td>\n",
       "      <td>356.4620</td>\n",
       "      <td>g</td>\n",
       "    </tr>\n",
       "  </tbody>\n",
       "</table>\n",
       "</div>"
      ],
      "text/plain": [
       "    fLength    fWidth   fSize   fConc  fConc1     fAsym  fM3Long  fM3Trans  \\\n",
       "0   28.7967   16.0021  2.6449  0.3918  0.1982   27.7004  22.0110   -8.2027   \n",
       "1   31.6036   11.7235  2.5185  0.5303  0.3773   26.2722  23.8238   -9.9574   \n",
       "2  162.0520  136.0310  4.0612  0.0374  0.0187  116.7410 -64.8580  -45.2160   \n",
       "3   23.8172    9.5728  2.3385  0.6147  0.3922   27.2107  -6.4633   -7.1513   \n",
       "4   75.1362   30.9205  3.1611  0.3168  0.1832   -5.5277  28.5525   21.8393   \n",
       "\n",
       "    fAlpha     fDist class  \n",
       "0  40.0920   81.8828     g  \n",
       "1   6.3609  205.2610     g  \n",
       "2  76.9600  256.7880     g  \n",
       "3  10.4490  116.7370     g  \n",
       "4   4.6480  356.4620     g  "
      ]
     },
     "execution_count": 2,
     "metadata": {},
     "output_type": "execute_result"
    }
   ],
   "source": [
    "data = pd.read_csv('datasets/magic04.data', \n",
    "                   names=['fLength', 'fWidth', 'fSize', 'fConc', 'fConc1', 'fAsym', 'fM3Long', 'fM3Trans', 'fAlpha', 'fDist', 'class'])\n",
    "\n",
    "data.head()"
   ]
  },
  {
   "cell_type": "code",
   "execution_count": 3,
   "id": "bac3d1c7",
   "metadata": {},
   "outputs": [
    {
     "data": {
      "text/plain": [
       "array([1, 0])"
      ]
     },
     "execution_count": 3,
     "metadata": {},
     "output_type": "execute_result"
    }
   ],
   "source": [
    "data['class'] = (data['class'] == 'g').astype(int)\n",
    "data['class'].unique()"
   ]
  },
  {
   "cell_type": "code",
   "execution_count": 4,
   "id": "f6b06796",
   "metadata": {},
   "outputs": [
    {
     "data": {
      "text/plain": [
       "(19020, 10)"
      ]
     },
     "execution_count": 4,
     "metadata": {},
     "output_type": "execute_result"
    }
   ],
   "source": [
    "X = data.drop('class', axis=1)\n",
    "y = data['class']\n",
    "\n",
    "scaler = StandardScaler()\n",
    "X_scaled = scaler.fit_transform(X)\n",
    "X = X_scaled\n",
    "X.shape"
   ]
  },
  {
   "cell_type": "markdown",
   "id": "5b8beb9a",
   "metadata": {},
   "source": [
    "##### Training and evaluation function"
   ]
  },
  {
   "cell_type": "code",
   "execution_count": 5,
   "id": "539ceea5",
   "metadata": {},
   "outputs": [],
   "source": [
    "def train_eval(X, y, iter_num:int):\n",
    "    \n",
    "    X_train, X_test, y_train, y_test = train_test_split(X, y, test_size=0.2, random_state=iter_num)\n",
    "    \n",
    "    nb_model = GaussianNB()\n",
    "    nb_model.fit(X_train, y_train)\n",
    "    \n",
    "    y_pred = nb_model.predict(X_test)\n",
    "    accuracy = accuracy_score(y_test, y_pred)\n",
    "    \n",
    "    return accuracy"
   ]
  },
  {
   "cell_type": "markdown",
   "id": "3c9938b9",
   "metadata": {},
   "source": [
    "##### Hyperparameter tuning"
   ]
  },
  {
   "cell_type": "code",
   "execution_count": 6,
   "id": "e4899a31",
   "metadata": {},
   "outputs": [
    {
     "name": "stdout",
     "output_type": "stream",
     "text": [
      "Accurarcy 0.72056 Iter 0\n",
      "----------------------------------------------------------------------------------------> Iter 0\n",
      "Accurarcy 0.72923 Iter 1\n",
      "Accurarcy 0.73002 Iter 4\n",
      "Accurarcy 0.73081 Iter 6\n",
      "Accurarcy 0.74343 Iter 14\n",
      "Accurarcy 0.75237 Iter 79\n",
      "----------------------------------------------------------------------------------------> Iter 1000\n",
      "----------------------------------------------------------------------------------------> Iter 2000\n",
      "----------------------------------------------------------------------------------------> Iter 3000\n",
      "----------------------------------------------------------------------------------------> Iter 4000\n",
      "----------------------------------------------------------------------------------------> Iter 5000\n",
      "----------------------------------------------------------------------------------------> Iter 6000\n",
      "----------------------------------------------------------------------------------------> Iter 7000\n",
      "Accurarcy 0.75263 Iter 7977\n",
      "----------------------------------------------------------------------------------------> Iter 8000\n",
      "----------------------------------------------------------------------------------------> Iter 9000\n",
      "Accurarcy 0.75342 Iter 9918\n",
      "----------------------------------------------------------------------------------------> Iter 10000\n",
      "----------------------------------------------------------------------------------------> Iter 11000\n",
      "----------------------------------------------------------------------------------------> Iter 12000\n",
      "----------------------------------------------------------------------------------------> Iter 13000\n",
      "----------------------------------------------------------------------------------------> Iter 14000\n",
      "----------------------------------------------------------------------------------------> Iter 15000\n",
      "----------------------------------------------------------------------------------------> Iter 16000\n",
      "----------------------------------------------------------------------------------------> Iter 17000\n",
      "----------------------------------------------------------------------------------------> Iter 18000\n",
      "----------------------------------------------------------------------------------------> Iter 19000\n",
      "----------------------------------------------------------------------------------------> Iter 20000\n",
      "----------------------------------------------------------------------------------------> Iter 21000\n",
      "----------------------------------------------------------------------------------------> Iter 22000\n",
      "----------------------------------------------------------------------------------------> Iter 23000\n",
      "----------------------------------------------------------------------------------------> Iter 24000\n"
     ]
    }
   ],
   "source": [
    "acc = -1\n",
    "\n",
    "for i in range(0, 25_000):\n",
    "    best_acc = train_eval(X, y, i)\n",
    "    \n",
    "    if best_acc > acc:\n",
    "        acc = best_acc\n",
    "        print(f'Accurarcy {round(acc, 5)} Iter {i}')\n",
    "        \n",
    "    if i%1000 == 0:\n",
    "        print(f'----------------------------------------------------------------------------------------> Iter {i}')"
   ]
  }
 ],
 "metadata": {
  "kernelspec": {
   "display_name": "Python 3 (ipykernel)",
   "language": "python",
   "name": "python3"
  },
  "language_info": {
   "codemirror_mode": {
    "name": "ipython",
    "version": 3
   },
   "file_extension": ".py",
   "mimetype": "text/x-python",
   "name": "python",
   "nbconvert_exporter": "python",
   "pygments_lexer": "ipython3",
   "version": "3.8.5"
  }
 },
 "nbformat": 4,
 "nbformat_minor": 5
}
